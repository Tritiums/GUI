{
 "cells": [
  {
   "cell_type": "markdown",
   "metadata": {},
   "source": [
    "# Planet Databank of Star Wars"
   ]
  },
  {
   "cell_type": "markdown",
   "metadata": {},
   "source": [
    "### SWAPI & Tkinter Modules"
   ]
  },
  {
   "cell_type": "code",
   "execution_count": 1,
   "metadata": {
    "collapsed": false
   },
   "outputs": [],
   "source": [
    "import swapi\n",
    "import tkinter as tk\n",
    "import tkinter.font as tkf\n",
    "from tkinter import ttk\n",
    "from tkinter import messagebox"
   ]
  },
  {
   "cell_type": "markdown",
   "metadata": {},
   "source": [
    "### Extract Planet Data"
   ]
  },
  {
   "cell_type": "code",
   "execution_count": 2,
   "metadata": {
    "collapsed": false
   },
   "outputs": [],
   "source": [
    "planets = swapi.get_all('planets')"
   ]
  },
  {
   "cell_type": "code",
   "execution_count": 3,
   "metadata": {
    "collapsed": true
   },
   "outputs": [],
   "source": [
    "dataset = {}"
   ]
  },
  {
   "cell_type": "code",
   "execution_count": 4,
   "metadata": {
    "collapsed": false
   },
   "outputs": [],
   "source": [
    "for planet in planets.iter():\n",
    "    dataset[planet.name] =[planet.name, planet.diameter, planet.gravity, planet.climate, \n",
    "                           planet.rotation_period, planet.orbital_period, \n",
    "                           planet.terrain, planet.surface_water, planet.population, \n",
    "                           planet.residents, planet.films, planet.created, planet.edited, \n",
    "                           planet.get_films, planet.get_residents, planet.url]\n",
    "num = len(dataset)"
   ]
  },
  {
   "cell_type": "code",
   "execution_count": 5,
   "metadata": {
    "collapsed": true
   },
   "outputs": [],
   "source": [
    "headers = ['name', 'diameter', 'gravity', 'climate', 'rotation_period', 'orbital_period', \n",
    "           'terrain', 'surface_water', 'population', 'residents',  'films', \n",
    "           'created', 'edited', 'get_films', 'get_residents', 'url']\n",
    "header_widths = [80, 30, 90, 140, 30, 30,\n",
    "               240, 60, 50, 120, 120,\n",
    "               100, 100, 100, 100, 100]"
   ]
  },
  {
   "cell_type": "markdown",
   "metadata": {},
   "source": [
    "### Helper Functions"
   ]
  },
  {
   "cell_type": "code",
   "execution_count": 7,
   "metadata": {
    "collapsed": true
   },
   "outputs": [],
   "source": [
    "def OnDoubleClick(event):\n",
    "    item = table.selection()[0]\n",
    "    value = table.item(item, 'values')\n",
    "    name = value[0]\n",
    "    \n",
    "    text_name.delete('1.0', tk.END)\n",
    "    text_name.insert('1.0', name)\n",
    "    \n",
    "    text_diameter.delete('1.0', tk.END)\n",
    "    text_diameter.insert('1.0', dataset[name][1])\n",
    "    \n",
    "    text_gravity.delete('1.0', tk.END)\n",
    "    text_gravity.insert('1.0', dataset[name][2])\n",
    "    \n",
    "    text_climate.delete('1.0', tk.END)\n",
    "    text_climate.insert('1.0', dataset[name][3])\n",
    "    \n",
    "    text_rotation_period.delete('1.0', tk.END)\n",
    "    text_rotation_period.insert('1.0', dataset[name][4])\n",
    "    \n",
    "    text_orbital_period.delete('1.0', tk.END)\n",
    "    text_orbital_period.insert('1.0', dataset[name][5])\n",
    "    \n",
    "    text_terrain.delete('1.0', tk.END)\n",
    "    text_terrain.insert('1.0', dataset[name][6])\n",
    "    \n",
    "    text_surface_water.delete('1.0', tk.END)\n",
    "    text_surface_water.insert('1.0', dataset[name][7])\n",
    "    \n",
    "    text_population.delete('1.0', tk.END)\n",
    "    text_population.insert('1.0', dataset[name][8])\n",
    "    \n",
    "    text_residents.delete('1.0', tk.END)\n",
    "    text_residents.insert('1.0', dataset[name][9])\n",
    "    \n",
    "    text_films.delete('1.0', tk.END)\n",
    "    text_films.insert('1.0', dataset[name][10])\n",
    "    \n",
    "    text_created.delete('1.0', tk.END)\n",
    "    text_created.insert('1.0', dataset[name][11])\n",
    "    \n",
    "    text_edited.delete('1.0', tk.END)\n",
    "    text_edited.insert('1.0', dataset[name][12])\n",
    "    \n",
    "    \n",
    "    text_get_films.delete('1.0', tk.END)\n",
    "    text_get_films.insert('1.0', dataset[name][13])\n",
    "    \n",
    "    text_get_residents.delete('1.0', tk.END)\n",
    "    text_get_residents.insert('1.0', dataset[name][14])\n",
    "    \n",
    "    text_url.delete('1.0', tk.END)\n",
    "    text_url.insert('1.0', dataset[name][15])       "
   ]
  },
  {
   "cell_type": "code",
   "execution_count": 8,
   "metadata": {
    "collapsed": false
   },
   "outputs": [],
   "source": [
    "def sortby(tree, col, descending):\n",
    "    \"\"\"sort tree contents when a column header is clicked on\"\"\"\n",
    "    # grab values to sort\n",
    "    data = [(tree.set(child, col), child) for child in tree.get_children('')]\n",
    "    # if the data to be sorted is numeric change to float\n",
    "    #data =  change_numeric(data)\n",
    "    # now sort the data in place\n",
    "    data.sort(reverse=descending)\n",
    "    for ix, item in enumerate(data):\n",
    "        tree.move(item[1], '', ix)\n",
    "    # switch the heading so it will sort in the opposite direction\n",
    "    tree.heading(col, command=lambda col=col: sortby(tree, col, int(not descending)))"
   ]
  },
  {
   "cell_type": "code",
   "execution_count": 9,
   "metadata": {
    "collapsed": true
   },
   "outputs": [],
   "source": [
    "def about():\n",
    "    messagebox.showinfo(\"About\", \"Author: Chuan Yang\")"
   ]
  },
  {
   "cell_type": "markdown",
   "metadata": {},
   "source": [
    "### Main Stream"
   ]
  },
  {
   "cell_type": "code",
   "execution_count": 10,
   "metadata": {
    "collapsed": false
   },
   "outputs": [],
   "source": [
    "# Main Frame////////////////////////////////////////////////////////////////////////////////////////\n",
    "root = tk.Tk()\n",
    "root.geometry(\"{0}x{1}+0+0\".format(root.winfo_screenwidth(), root.winfo_screenheight()))\n",
    "#root.attributes('-fullscreen', True)\n",
    "root.title('Planet Database of Star Wars')\n",
    "\n",
    "# Multicolumn Listbox/////////////////////////////////////////////////////////////////////////////\n",
    "table = ttk.Treeview(height=\"20\", columns=headers, selectmode=\"extended\")\n",
    "table.pack(padx=10, pady=20, ipadx=1200, ipady=190)\n",
    "\n",
    "i = 1\n",
    "for header in headers:\n",
    "    table.heading('#'+str(i), text=header.title(), anchor=tk.W, command=lambda c=header: sortby(table, c, 0))\n",
    "    table.column('#'+str(i), stretch=tk.NO, minwidth=0, width=tkf.Font().measure(header.title())+header_widths[i-1]) \n",
    "    i+=1    \n",
    "table.column('#0', stretch=tk.NO, minwidth=0, width=0)\n",
    "\n",
    "for name in list(dataset.keys()):\n",
    "    table.insert(\"\", \"end\", \"\", values=dataset[name])\n",
    "\n",
    "#table.insert('','end', values='')\n",
    "\n",
    "table.bind(\"<Double-1>\", OnDoubleClick)\n",
    "#///////////////////////////////////////////////////////////////////////////////////////////\n",
    "\n",
    "# Scrollbar////////////////////////////////////////////////////////////////////////////////////////\n",
    "vsb = ttk.Scrollbar(table, orient=\"vertical\",  command = table.yview)\n",
    "hsb = ttk.Scrollbar(table, orient=\"horizontal\", command = table.xview)\n",
    "## Link scrollbars activation to top-level object\n",
    "table.configure(yscrollcommand=vsb.set, xscrollcommand=hsb.set)\n",
    "## Link scrollbar also to every columns\n",
    "map(lambda col: col.configure(yscrollcommand=vsb.set,xscrollcommand=hsb.set), table)\n",
    "vsb.pack(side = tk.RIGHT, fill = tk.Y)\n",
    "hsb.pack(side = tk.BOTTOM, fill = tk.X)        \n",
    "\n",
    "#//////////////////////////////////////////////////////////////////////////////////////////////\n",
    "\n",
    "y_origin = 500\n",
    "gain = 47\n",
    "i = 0\n",
    "\n",
    "text_num=tk.Text(root, width=5,height=1, font=('tahoma', 10))\n",
    "text_num.place(x=1160, y=y_origin+i*gain)\n",
    "text_num.delete('1.0', tk.END)\n",
    "text_num.insert('1.0', str(num))\n",
    "\n",
    "text_name=tk.Text(root, width=20,height=1, font=('tahoma', 10), wrap='none')\n",
    "text_name.place(x=30, y=y_origin+i*gain)\n",
    "label_name=tk.Label(root, text='Name:', font=('tahoma', 10))\n",
    "label_name.place(x=30,y=y_origin+i*gain-30)\n",
    "\n",
    "text_diameter=tk.Text(root, width=15,height=1, font=('tahoma', 10), wrap='none')\n",
    "text_diameter.place(x=260, y=y_origin+i*gain)\n",
    "label_diameter=tk.Label(root, text='diameter:', font=('tahoma', 10))\n",
    "label_diameter.place(x=260,y=y_origin+i*gain-30)\n",
    "\n",
    "\n",
    "text_gravity=tk.Text(root, width=10,height=1, font=('tahoma', 10), wrap='none')\n",
    "text_gravity.place(x=440, y=y_origin+i*gain)\n",
    "label_gravity=tk.Label(root, text='gravity:', font=('tahoma', 10))\n",
    "label_gravity.place(x=440,y=y_origin+i*gain-30)\n",
    "\n",
    "text_climate=tk.Text(root, width=20,height=1, font=('tahoma', 10), wrap='none')\n",
    "text_climate.place(x=600, y=y_origin+i*gain)\n",
    "label_climate=tk.Label(root, text='climate:', font=('tahoma', 10))\n",
    "label_climate.place(x=600,y=y_origin+i*gain-30)\n",
    "\n",
    "text_rotation_period=tk.Text(root, width=10,height=1, font=('tahoma', 10), wrap='none')\n",
    "text_rotation_period.place(x=830, y=y_origin+i*gain)\n",
    "label_rotation_period=tk.Label(root, text='rotation_period:', font=('tahoma', 10))\n",
    "label_rotation_period.place(x=830,y=y_origin+i*gain-30)\n",
    "\n",
    "text_orbital_period=tk.Text(root, width=10,height=1, font=('tahoma', 10), wrap='none')\n",
    "text_orbital_period.place(x=1000, y=y_origin+i*gain)\n",
    "label_orbital_period=tk.Label(root, text='orbital_period:', font=('tahoma', 10))\n",
    "label_orbital_period.place(x=1000,y=y_origin+i*gain-30)\n",
    "\n",
    "y_origin = 565\n",
    "\n",
    "text_terrain=tk.Text(root, width=40,height=1, font=('tahoma', 10), wrap='none')\n",
    "text_terrain.place(x=30, y=y_origin+i*gain)\n",
    "label_terrain=tk.Label(root, text='terrain:', font=('tahoma', 10))\n",
    "label_terrain.place(x=30,y=y_origin+i*gain-30)\n",
    "\n",
    "text_surface_water=tk.Text(root, width=20,height=1, font=('tahoma', 10), wrap='none')\n",
    "text_surface_water.place(x=450, y=y_origin+i*gain)\n",
    "label_surface_water=tk.Label(root, text='surface_water:', font=('tahoma', 10))\n",
    "label_surface_water.place(x=450,y=y_origin+i*gain-30)\n",
    "\n",
    "text_population=tk.Text(root, width=20,height=1, font=('tahoma', 10), wrap='none')\n",
    "text_population.place(x=660, y=y_origin+i*gain)\n",
    "label_population=tk.Label(root, text='population:', font=('tahoma', 10))\n",
    "label_population.place(x=660,y=y_origin+i*gain-30)\n",
    "\n",
    "text_residents=tk.Text(root, width=30,height=1, font=('tahoma', 10), wrap='none')\n",
    "text_residents.place(x=880, y=y_origin+i*gain)\n",
    "label_residents=tk.Label(root, text='residents:', font=('tahoma', 10))\n",
    "label_residents.place(x=880,y=y_origin+i*gain-30)\n",
    "\n",
    "y_origin = 630\n",
    "\n",
    "text_created=tk.Text(root, width=30,height=1, font=('tahoma', 10), wrap='none')\n",
    "text_created.place(x=30, y=y_origin+i*gain)\n",
    "label_created=tk.Label(root, text='created:', font=('tahoma', 10))\n",
    "label_created.place(x=30,y=y_origin+i*gain-30)\n",
    "\n",
    "text_edited=tk.Text(root, width=30,height=1, font=('tahoma', 10), wrap='none')\n",
    "text_edited.place(x=330, y=y_origin+i*gain)\n",
    "label_edited=tk.Label(root, text='edited:', font=('tahoma', 10))\n",
    "label_edited.place(x=330,y=y_origin+i*gain-30)\n",
    "\n",
    "text_films=tk.Text(root, width=40,height=1, font=('tahoma', 10), wrap='none')\n",
    "text_films.place(x=650, y=y_origin+i*gain)\n",
    "label_films=tk.Label(root, text='films:', font=('tahoma', 10))\n",
    "label_films.place(x=650,y=y_origin+i*gain-30)\n",
    "\n",
    "y_origin = 695\n",
    "\n",
    "text_get_films=tk.Text(root, width=50,height=1, font=('tahoma', 10), wrap='none')\n",
    "text_get_films.place(x=30, y=y_origin+i*gain)\n",
    "label_get_films=tk.Label(root, text='get_films:', font=('tahoma', 10))\n",
    "label_get_films.place(x=30,y=y_origin+i*gain-30)\n",
    "\n",
    "text_get_residents=tk.Text(root, width=60,height=1, font=('tahoma', 10), wrap='none')\n",
    "text_get_residents.place(x=600, y=y_origin+i*gain)\n",
    "label_get_residents=tk.Label(root, text='get_residents:', font=('tahoma', 10))\n",
    "label_get_residents.place(x=600,y=y_origin+i*gain-30)\n",
    "\n",
    "y_origin = 760\n",
    "\n",
    "text_url=tk.Text(root, width=80,height=1, font=('tahoma', 10), wrap='none')\n",
    "text_url.place(x=30, y=y_origin+i*gain)\n",
    "label_url=tk.Label(root, text='url:', font=('tahoma', 10))\n",
    "label_url.place(x=30,y=y_origin+i*gain-30)\n",
    "\n",
    "button_about=ttk.Button(root, text='About...', width=20, command=about)\n",
    "button_about.place(x=1000, y=630)\n",
    "\n",
    "root.mainloop()"
   ]
  },
  {
   "cell_type": "markdown",
   "metadata": {},
   "source": [
    "<img src=\"https://raw.githubusercontent.com/YangChuan80/GUI/master/StarWarsDataBank/Images/PlanetDB.png\" align=\"left\">"
   ]
  },
  {
   "cell_type": "markdown",
   "metadata": {},
   "source": [
    "<img src=\"http://www.cinemablend.com/images/news/35550/_1360102362.jpg\" align=\"left\">"
   ]
  }
 ],
 "metadata": {
  "kernelspec": {
   "display_name": "Python 3",
   "language": "python",
   "name": "python3"
  },
  "language_info": {
   "codemirror_mode": {
    "name": "ipython",
    "version": 3
   },
   "file_extension": ".py",
   "mimetype": "text/x-python",
   "name": "python",
   "nbconvert_exporter": "python",
   "pygments_lexer": "ipython3",
   "version": "3.5.1"
  }
 },
 "nbformat": 4,
 "nbformat_minor": 0
}
