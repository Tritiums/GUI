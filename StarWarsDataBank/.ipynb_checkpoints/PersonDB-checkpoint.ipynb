{
 "cells": [
  {
   "cell_type": "code",
   "execution_count": 30,
   "metadata": {
    "collapsed": false
   },
   "outputs": [],
   "source": [
    "import swapi\n",
    "import tkinter as tk\n",
    "import tkinter.font as tkf\n",
    "from tkinter import ttk"
   ]
  },
  {
   "cell_type": "code",
   "execution_count": 31,
   "metadata": {
    "collapsed": true
   },
   "outputs": [],
   "source": [
    "persons = swapi.get_all('people')"
   ]
  },
  {
   "cell_type": "code",
   "execution_count": 40,
   "metadata": {
    "collapsed": true
   },
   "outputs": [],
   "source": [
    "dataset = []"
   ]
  },
  {
   "cell_type": "code",
   "execution_count": 41,
   "metadata": {
    "collapsed": false
   },
   "outputs": [],
   "source": [
    "for person in persons.iter():\n",
    "    dataset.append([person.name, person.gender, person.birth_year, person.species, \n",
    "                    person.eye_color, person.skin_color, person.hair_color, \n",
    "                    person.height, person.mass, person.homeworld, person.starships, person.vehicles, \n",
    "                    person.created, person.edited, person.films, \n",
    "                    person.get_films, person.get_homeworld, person.get_species, \n",
    "                    person.get_starships, person.get_vehicles, person.url])\n",
    "num = len(dataset)"
   ]
  },
  {
   "cell_type": "code",
   "execution_count": 42,
   "metadata": {
    "collapsed": true
   },
   "outputs": [],
   "source": [
    "headers = ['name', 'gender', 'birth_year', 'species', 'eye_color', 'skin_color', 'hair_color', 'height', 'mass', 'homeworld', \n",
    "           'starships', 'vehicles', 'created', 'edited', 'films', \n",
    "           'get_films', 'get_homeworld', 'get_species', 'get_starships', 'get_vehicles', 'url']"
   ]
  },
  {
   "cell_type": "code",
   "execution_count": 44,
   "metadata": {
    "collapsed": false
   },
   "outputs": [],
   "source": [
    "def OnDoubleClick(event):\n",
    "    item = table.selection()[0]\n",
    "    value = table.item(item, 'values')\n",
    "    name = value[0]\n",
    "    \n",
    "    text_name.delete('1.0', tk.END)\n",
    "    text_name.insert('1.0', name)\n",
    "    \n",
    "def sortby(tree, col, descending):\n",
    "    \"\"\"sort tree contents when a column header is clicked on\"\"\"\n",
    "    # grab values to sort\n",
    "    data = [(tree.set(child, col), child) for child in tree.get_children('')]\n",
    "    # if the data to be sorted is numeric change to float\n",
    "    #data =  change_numeric(data)\n",
    "    # now sort the data in place\n",
    "    data.sort(reverse=descending)\n",
    "    for ix, item in enumerate(data):\n",
    "        tree.move(item[1], '', ix)\n",
    "    # switch the heading so it will sort in the opposite direction\n",
    "    tree.heading(col, command=lambda col=col: sortby(tree, col, int(not descending)))\n",
    "    \n",
    "# Main Frame////////////////////////////////////////////////////////////////////////////////////////\n",
    "root = tk.Tk()\n",
    "root.geometry(\"{0}x{1}+0+0\".format(root.winfo_screenwidth(), root.winfo_screenheight()))\n",
    "#root.attributes('-fullscreen', True)\n",
    "root.title('Mutiple Column Listbox Example')\n",
    "\n",
    "# Multicolumn Listbox/////////////////////////////////////////////////////////////////////////////\n",
    "table = ttk.Treeview(height=\"20\", columns=headers, selectmode=\"extended\")\n",
    "table.pack(padx=10, pady=20, ipadx=1200, ipady=200)\n",
    "\n",
    "i = 1\n",
    "for header in headers:\n",
    "    table.heading('#'+str(i), text=header.title(), anchor=tk.W, command=lambda c=header: sortby(table, c, 0))\n",
    "    table.column('#'+str(i), stretch=tk.NO, minwidth=0, width=tkf.Font().measure(header.title())+50) \n",
    "    i+=1    \n",
    "table.column('#0', stretch=tk.NO, minwidth=0, width=0)\n",
    "\n",
    "for data in dataset:\n",
    "    table.insert(\"\", \"end\", \"\", values=data)\n",
    "\n",
    "#chat.insert('','end', values='')\n",
    "\n",
    "table.bind(\"<Double-1>\", OnDoubleClick)\n",
    "#///////////////////////////////////////////////////////////////////////////////////////////\n",
    "\n",
    "# Scrollbar////////////////////////////////////////////////////////////////////////////////////////\n",
    "vsb = ttk.Scrollbar(table, orient=\"vertical\",  command = table.yview)\n",
    "hsb = ttk.Scrollbar(table, orient=\"horizontal\", command = table.xview)\n",
    "## Link scrollbars activation to top-level object\n",
    "table.configure(yscrollcommand=vsb.set, xscrollcommand=hsb.set)\n",
    "## Link scrollbar also to every columns\n",
    "map(lambda col: col.configure(yscrollcommand=vsb.set,xscrollcommand=hsb.set), table)\n",
    "vsb.pack(side = tk.RIGHT, fill = tk.Y)\n",
    "hsb.pack(side = tk.BOTTOM, fill = tk.X)        \n",
    "\n",
    "#//////////////////////////////////////////////////////////////////////////////////////////////\n",
    "\n",
    "text_name=tk.Text(root, width=20,height=1, font=('times', 13))\n",
    "text_name.place(x=160, y=545)\n",
    "\n",
    "text_num=tk.Text(root, width=20,height=1, font=('times', 13))\n",
    "text_num.place(x=860, y=545)\n",
    "text_num.delete('1.0', tk.END)\n",
    "text_num.insert('1.0', str(num))\n",
    "\n",
    "root.mainloop()"
   ]
  },
  {
   "cell_type": "code",
   "execution_count": null,
   "metadata": {
    "collapsed": true
   },
   "outputs": [],
   "source": []
  }
 ],
 "metadata": {
  "kernelspec": {
   "display_name": "Python 3",
   "language": "python",
   "name": "python3"
  },
  "language_info": {
   "codemirror_mode": {
    "name": "ipython",
    "version": 3
   },
   "file_extension": ".py",
   "mimetype": "text/x-python",
   "name": "python",
   "nbconvert_exporter": "python",
   "pygments_lexer": "ipython3",
   "version": "3.5.1"
  }
 },
 "nbformat": 4,
 "nbformat_minor": 0
}
