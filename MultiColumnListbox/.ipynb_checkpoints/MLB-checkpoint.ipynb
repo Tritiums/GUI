{
 "cells": [
  {
   "cell_type": "code",
   "execution_count": null,
   "metadata": {
    "collapsed": true
   },
   "outputs": [],
   "source": [
    "import tkinter as tk\n",
    "import tkinter.font as tkf\n",
    "from tkinter import ttk\n",
    "\n",
    "headers = ['name', 'title', 'age', 'hospital']\n",
    "elites = [('Yingxian Sun', 'Professor', '53', 'First Affiliated Hospital of China Medical University'),\n",
    "         ('Chuan Yang', 'Attending', '36', 'Shengjing Hospital of China Medical University'),\n",
    "         ('Anji Yang', 'Kinder', '6', 'Shearn Elementary School'),\n",
    "         ('Changsheng Ma', 'Proffessor', '54', 'Anzhen Hospital of Capital Medical University'),\n",
    "          ('Jenny Chen', 'Elementary', '8', 'Kirtland Elementary School'),\n",
    "          ('Wei Zhang', 'Attending', '36', 'Shengjing Hospital of China Medical University'),\n",
    "          ('Rui Chen', 'Associate Professor', '45', 'Baylor College of Medicine'),\n",
    "          ('Tony Hu', 'Associate Professor', '39', 'Houston Methodist Hospital Research Institute'),\n",
    "          ('Wenshu Chen', 'Research Scientist', '48', 'Lovelace Respiratory Research Institute'),\n",
    "          ('Eric Ma', 'PhD Candidate', '29', 'Massachusset Institute of Technology'),\n",
    "          ('Xiaoke Fei', 'PhD Candidate', '34', 'New York State University Stoney Brook')\n",
    "          ]\n",
    "\n",
    "def OnDoubleClick(event):\n",
    "    item = chat.selection()[0]\n",
    "    value = chat.item(item, 'values')\n",
    "    name = value[0]\n",
    "    \n",
    "    text_01.delete('1.0', tk.END)\n",
    "    text_01.insert('1.0', name)\n",
    "    \n",
    "#Main Window////////////////////////////////////////////////////////////////////////////////////////\n",
    "root = tk.Tk()\n",
    "root.geometry(\"{0}x{1}+0+0\".format(root.winfo_screenwidth(), root.winfo_screenheight()))\n",
    "\n",
    "#Multicolumn Listbox/////////////////////////////////////////////////////////////////////////////\n",
    "chat = ttk.Treeview(height=\"20\", columns=headers, selectmode=\"extended\")\n",
    "chat.pack(padx=10, pady=20, ipadx=550, ipady=80)\n",
    "\n",
    "i = 1\n",
    "for header in headers:\n",
    "    chat.heading('#'+str(i), text=header.title(), anchor=tk.W)\n",
    "    chat.column('#'+str(i), stretch=tk.NO, minwidth=0, width=tkf.Font().measure(header.title())+20) \n",
    "    i+=1\n",
    "    \n",
    "chat.column('#0', stretch=tk.NO, minwidth=0, width=0)\n",
    "\n",
    "for elite in elites:\n",
    "    chat.insert(\"\", \"end\", \"\", values=elite)\n",
    "\n",
    "chat.bind(\"<Double-1>\", OnDoubleClick)\n",
    "#///////////////////////////////////////////////////////////////////////////////////////////\n",
    "\n",
    "#Scrollbar////////////////////////////////////////////////////////////////////////////////////////\n",
    "vsb = ttk.Scrollbar(chat, orient=\"vertical\",  command = chat.yview)\n",
    "hsb = ttk.Scrollbar(chat, orient=\"horizontal\", command = chat.xview)\n",
    "## Link scrollbars activation to top-level object\n",
    "chat.configure(yscrollcommand=vsb.set, xscrollcommand=hsb.set)\n",
    "## Link scrollbar also to every columns\n",
    "map ( lambda col : col.configure(yscrollcommand=vsb.set,xscrollcommand=hsb.set), chat)\n",
    "vsb.pack(side = tk.RIGHT, fill = tk.Y)\n",
    "hsb.pack(side = tk.BOTTOM, fill = tk.X)        \n",
    "\n",
    "#//////////////////////////////////////////////////////////////////////////////////////////////\n",
    "\n",
    "text_01=tk.Text(root, width=20,height=1, font=('times', 13))\n",
    "text_01.place(x=160, y=545)\n",
    "\n",
    "root.mainloop()"
   ]
  }
 ],
 "metadata": {
  "kernelspec": {
   "display_name": "Python 3",
   "language": "python",
   "name": "python3"
  },
  "language_info": {
   "codemirror_mode": {
    "name": "ipython",
    "version": 3
   },
   "file_extension": ".py",
   "mimetype": "text/x-python",
   "name": "python",
   "nbconvert_exporter": "python",
   "pygments_lexer": "ipython3",
   "version": "3.5.1"
  }
 },
 "nbformat": 4,
 "nbformat_minor": 0
}
