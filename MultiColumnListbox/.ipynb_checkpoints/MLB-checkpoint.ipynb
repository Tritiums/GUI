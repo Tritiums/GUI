{
 "cells": [
  {
   "cell_type": "code",
   "execution_count": 19,
   "metadata": {
    "collapsed": false
   },
   "outputs": [],
   "source": [
    "import tkinter as tk\n",
    "from tkinter import ttk\n",
    "\n",
    "def OnDoubleClick(event):\n",
    "    item = chat.selection()[0]\n",
    "    value = chat.item(item, 'values')\n",
    "    name = value[0]\n",
    "    \n",
    "    text_01.delete('1.0', tk.END)\n",
    "    text_01.insert('1.0', name)\n",
    "    \n",
    "#Main Window////////////////////////////////////////////////////////////////////////////////////////\n",
    "root = tk.Tk()\n",
    "root.geometry(\"{0}x{1}+0+0\".format(root.winfo_screenwidth(), root.winfo_screenheight()))\n",
    "\n",
    "#Multicolumn Listbox/////////////////////////////////////////////////////////////////////////////\n",
    "\n",
    "chat = ttk.Treeview(height=\"20\", columns=(\"Nick\",\"Mensaje\",\"Hora\"), selectmode=\"extended\")\n",
    "chat.pack(padx=0, pady=20, ipadx=550, ipady=200)\n",
    "\n",
    "chat.heading('#1', text='Name', anchor=tk.W)\n",
    "chat.heading('#2', text='Title', anchor=tk.W)\n",
    "chat.heading('#3', text='Year', anchor=tk.W)\n",
    "\n",
    "chat.column('#0', stretch=tk.NO, minwidth=0, width=0)\n",
    "chat.column('#1', stretch=tk.NO, minwidth=0, width=200)\n",
    "chat.column('#2', stretch=tk.NO, minwidth=0, width=200)\n",
    "chat.column('#3', stretch=tk.NO, minwidth=0, width=200)\n",
    "\n",
    "vsb = ttk.Scrollbar(chat, orient=\"vertical\",  command = chat.yview)\n",
    "hsb = ttk.Scrollbar(chat, orient=\"horizontal\", command = chat.xview)\n",
    "\n",
    "## Link scrollbars activation to top-level object\n",
    "chat.configure(yscrollcommand=vsb.set, xscrollcommand=hsb.set)\n",
    "## Link scrollbar also to every columns\n",
    "map ( lambda col : col.configure(yscrollcommand=vsb.set,xscrollcommand=hsb.set), chat)\n",
    "\n",
    "vsb.pack(side = tk.RIGHT, fill = tk.Y)\n",
    "hsb.pack(side = tk.BOTTOM, fill = tk.X)\n",
    "\n",
    "        \n",
    "for i in range(10):\n",
    "    chat.insert(\"\", \"end\", \"\", values=(('Chuan Yang', 'Attending', '2011')))\n",
    "    chat.insert(\"\", \"end\", \"\", values=(('Yingxian Sun', 'Professor', '2004')))\n",
    "    chat.insert(\"\", \"end\", \"\", values=(('Wenyue Pang', 'Attending', '2011')))\n",
    "\n",
    "chat.bind(\"<Double-1>\", OnDoubleClick)\n",
    "#//////////////////////////////////////////////////////////////////////////////////////////////\n",
    "\n",
    "text_01=tk.Text(root, width=20,height=1, font=('times', 13))\n",
    "text_01.place(x=160, y=545)\n",
    "\n",
    "root.mainloop()"
   ]
  },
  {
   "cell_type": "code",
   "execution_count": null,
   "metadata": {
    "collapsed": true
   },
   "outputs": [],
   "source": []
  }
 ],
 "metadata": {
  "kernelspec": {
   "display_name": "Python 3",
   "language": "python",
   "name": "python3"
  },
  "language_info": {
   "codemirror_mode": {
    "name": "ipython",
    "version": 3
   },
   "file_extension": ".py",
   "mimetype": "text/x-python",
   "name": "python",
   "nbconvert_exporter": "python",
   "pygments_lexer": "ipython3",
   "version": "3.5.1"
  }
 },
 "nbformat": 4,
 "nbformat_minor": 0
}
